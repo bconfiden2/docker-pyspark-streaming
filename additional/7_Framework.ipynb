{
 "cells": [
  {
   "cell_type": "markdown",
   "metadata": {},
   "source": []
  },
  {
   "cell_type": "markdown",
   "metadata": {},
   "source": [
    "# Apache Streaming Landsacpe\n",
    "\n",
    "![paltform](http://www.popit.kr/wp-content/uploads/2016/07/stream_framework_comparison_chart-600x289.png )\n",
    "<br>\n",
    "\n",
    "## Apache Storm\n",
    "- 2010sus Nathan Marz에 의해서 만들어짐\n",
    "- Twitter에 의해 오픈소스화 됨\n",
    "- 2014년 Apache Top Level 프로젝트가 됨\n",
    "- Large Scale Streaming Processing 플랫폼의 선구자이며 업계 표준이 됨\n",
    "- low-level API를 제공하는 native streaming 시스템으로 topology 구현을 위해 다양한 언어를 지원함\n",
    "<br>\n",
    "<br>\n",
    "\n",
    "## Trident\n",
    "- Storm 위에 구현될 수 있는 고차원 micro-batching 시스템\n",
    "- topology 구축 과정으 ㄹ간소화하고 windowing, aggregation, 상태 관리 등의 고차원 operation을 쉽게 추가할 수 있음\n",
    "- 메세지 전달 방식이 Storm의 Most once 방식과는 반대로 Exactly onve 방식을 제공함\n",
    "\n",
    "## Spark\n",
    "- sparkSQL, MLlib, Spark Streaming 을 필두로 최근 가장 인기있는 batch propcessing 플랫폼\n",
    "- Spark의 runtime은 batch processing을 할 수 있도록 build가 됨\n",
    "- micro-batching 처리를 할 수 있는 spark streaming이 뒤늦게 추가가 됨\n",
    "- spark streaming 에서는 input data가 receiver로 들어오게 되면 micro-batch 들을 생성하여 기본적인 spark의 job을 처리하는 방식(batch processing)과 동일하게 데이터를 처리\n",
    "\n",
    "## Samza\n",
    "- Kafka와 더불어 Linkedin에서 독점적으로 개발한 Streaming 처리 플랫폼\n",
    "- 기본적으로 Kafaka의 로그 데이터를 처리한다는 철학을 바탕으로 두 개의 플랫폼이 매우 잘 통합되도록 구성되어 있음\n",
    "\n",
    "## Flink\n",
    "- 2008년에 만들어진 오래되 프로젝트\n",
    "- 최근에서야 주목을 받고 있음\n",
    "- high-level API를 지원하는 native streaming 플랫폼\n",
    "- Spark와 마찬가지로 batch 처리를 위한 API 지원\n",
    "- Spark와의 차이점은 Flink에서는 데이터를 batch 단위로 처리하는 것 자체를 예외적인 케이스로 생각함\n"
   ]
  }
 ],
 "metadata": {
  "kernelspec": {
   "display_name": "Python 3",
   "language": "python",
   "name": "python3"
  },
  "language_info": {
   "codemirror_mode": {
    "name": "ipython",
    "version": 3
   },
   "file_extension": ".py",
   "mimetype": "text/x-python",
   "name": "python",
   "nbconvert_exporter": "python",
   "pygments_lexer": "ipython3",
   "version": "3.8.8"
  }
 },
 "nbformat": 4,
 "nbformat_minor": 2
}
