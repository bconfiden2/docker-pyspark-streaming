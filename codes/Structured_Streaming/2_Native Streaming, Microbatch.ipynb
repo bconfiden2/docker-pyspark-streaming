{
 "cells": [
  {
   "cell_type": "markdown",
   "metadata": {},
   "source": [
    "# Native Streaming (Event Stream)\n",
    "- 유입되는 event들을 스트리밍 시스템에 도착하는 시점에 하나씩 처리하는 방식<br>\n",
    "\n",
    "![native streaming](http://www.popit.kr/wp-content/uploads/2016/07/sream1-600x285.png)\n",
    "\n",
    "## 장점\n",
    "- 모든 표현(로직 처리)이 가능\n",
    "- Latency가 적음\n",
    "- 상태 관리 구현이 쉬움\n",
    "\n",
    "## 단점\n",
    "- 특정 키에 대한 파티셔닝 처리시에 특정 키에 전체 데이터가 집중되면 병목현상 발생할 수 있음\n",
    "- 모든 이벤트를 각각 처리해야 함 → 장애 처리를 위한 비용이 큼, Throughput이 낮음"
   ]
  },
  {
   "cell_type": "markdown",
   "metadata": {},
   "source": [
    "# Micro-batching\n",
    "- 유입되는 event들을 짧은 주기(수 초 정도)의 batches 처리가 가능한 단위로 묶어서 스트리밍 시스템으로 보내는 방식<br>\n",
    "\n",
    "![micro-batching](http://www.popit.kr/wp-content/uploads/2016/07/stream2-600x226.png)\n",
    "\n",
    "## 장점\n",
    "- 장애복구, 로드밸런싱 구현이 쉬움\n",
    "\n",
    "## 단점\n",
    "- 로직 처리에 제약이 있음\n",
    "- 상태 관리 구현이 어려움\n",
    "- join, split 등의 오퍼레이션의 구현이 어려움\n",
    "- 적절한 batch 간격을 직접 찾아야 함"
   ]
  }
 ],
 "metadata": {
  "kernelspec": {
   "display_name": "Python 3",
   "language": "python",
   "name": "python3"
  },
  "language_info": {
   "codemirror_mode": {
    "name": "ipython",
    "version": 3
   },
   "file_extension": ".py",
   "mimetype": "text/x-python",
   "name": "python",
   "nbconvert_exporter": "python",
   "pygments_lexer": "ipython3",
   "version": "3.8.8"
  }
 },
 "nbformat": 4,
 "nbformat_minor": 2
}
