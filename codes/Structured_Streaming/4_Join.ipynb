{
 "cells": [
  {
   "cell_type": "markdown",
   "id": "41448983",
   "metadata": {},
   "source": [
    "# Stream Dataframe Join"
   ]
  },
  {
   "cell_type": "markdown",
   "id": "8b855c5b",
   "metadata": {},
   "source": [
    "정적인 테이블에서 조인을 하는 것과 비슷\n",
    "\n",
    "- 2.0 부터는 스트림-스태틱 조인\n",
    "\n",
    "- 2.3 부터는 스트림-스트림 조인 지원"
   ]
  },
  {
   "cell_type": "markdown",
   "id": "9346b3eb",
   "metadata": {},
   "source": [
    "한쪽 스트림에 들어오는 데이터들은 다른쪽 스트림과 언제든 조인이 발생할 수 있는 데이터가 되므로 더 어려움\n",
    "\n",
    "과거의 입력들을 버퍼해놓음으로써 나중에 조인 결과 테이블에 잘 반영시킬 수 있도록 함"
   ]
  },
  {
   "cell_type": "markdown",
   "id": "0a4e4d33",
   "metadata": {},
   "source": [
    "근데 스트림 테이블은 unbounded table 이기 때문에 데이터가 계속 들어오고, 옛날에 들어왔던 데이터를 다른 스트림과 계속 조인시키기 위한 중간상태값들을 무한정 유지할 수 없기 때문에 이를 조절하는 조인 컨디션 추가\n",
    "\n",
    "1. 각 스트림 테이블에 워터마크를 추가시켜서 늦은 데이터는 알아서 무시하게끔\n",
    "\n",
    "2. 두 스트림을 조인할 때의 constraint 를 한번 더 설정해줘서 스파크엔진이 필터링하게끔\n",
    "\n",
    "    - 시간 범위 : ```JOIN ON leftTime BETWEEN rightTime AND rightTime + INTERVAL 1 HOUR```\n",
    "\n",
    "    - 윈도우 : ```JOIN ON leftWindow = rightWindow```"
   ]
  },
  {
   "cell_type": "markdown",
   "id": "3e289cb1",
   "metadata": {},
   "source": [
    "[지원되는 Join](https://spark.apache.org/docs/3.0.3/structured-streaming-programming-guide.html#stream-stream-joins) 종류에 대해서 알고싶은사람"
   ]
  },
  {
   "cell_type": "markdown",
   "id": "d0dfb248",
   "metadata": {},
   "source": [
    "## Example"
   ]
  },
  {
   "cell_type": "code",
   "execution_count": 1,
   "id": "a24c060d",
   "metadata": {},
   "outputs": [],
   "source": [
    "from pyspark.sql import SparkSession\n",
    "from pyspark.sql.types import StructType, TimestampType\n",
    "from pyspark.sql.functions import from_unixtime, substring, to_timestamp\n",
    "from pyspark.sql.functions import col, udf\n",
    "from pyspark.sql.functions import explode, split, lower, regexp_replace, trim\n",
    "from pyspark.sql.types import StringType\n",
    "\n",
    "spark = SparkSession.builder.appName(\"StructuredStreamingTest\").getOrCreate()"
   ]
  },
  {
   "cell_type": "markdown",
   "id": "1e5a10f3",
   "metadata": {},
   "source": [
    "### Static DataFrame"
   ]
  },
  {
   "cell_type": "code",
   "execution_count": 2,
   "id": "2af5ef98",
   "metadata": {},
   "outputs": [
    {
     "name": "stderr",
     "output_type": "stream",
     "text": [
      "\r",
      "[Stage 0:>                                                          (0 + 1) / 1]\r"
     ]
    },
    {
     "name": "stdout",
     "output_type": "stream",
     "text": [
      "+---------+---+\n",
      "|  devname| ID|\n",
      "+---------+---+\n",
      "|  android| 10|\n",
      "|      app|  1|\n",
      "|   iphone| 12|\n",
      "|      web| 24|\n",
      "|      the|  3|\n",
      "| socially|  9|\n",
      "|  retweet| 17|\n",
      "|  codebot|  5|\n",
      "| testtest|999|\n",
      "|testtest2|888|\n",
      "+---------+---+\n",
      "\n"
     ]
    },
    {
     "name": "stderr",
     "output_type": "stream",
     "text": [
      "\r",
      "                                                                                \r"
     ]
    }
   ],
   "source": [
    "data = [(\"android\",10),\n",
    "        (\"app\",1),\n",
    "        (\"iphone\",12),\n",
    "        (\"web\",24),\n",
    "        (\"the\",3),\n",
    "        (\"socially\",9),\n",
    "        (\"retweet\",17),\n",
    "        (\"codebot\",5),\n",
    "        (\"testtest\",999),\n",
    "        (\"testtest2\",888)]\n",
    "\n",
    "df = spark.createDataFrame(data, [\"devname\", \"ID\"])\n",
    "df.show()"
   ]
  },
  {
   "cell_type": "markdown",
   "id": "81d187da",
   "metadata": {},
   "source": [
    "### Stream DataFrame"
   ]
  },
  {
   "cell_type": "code",
   "execution_count": 3,
   "id": "b77a404f",
   "metadata": {},
   "outputs": [],
   "source": [
    "schema = StructType().add(\"time\", \"string\").add(\"id\", \"string\").add(\"text\", \"string\").add(\"source\", \"string\")\n",
    "\n",
    "lines = spark.readStream.option(\"sep\",\",\").csv(\"/data/Structured_Streaming/\", schema=schema)\n",
    "\n",
    "func = udf(lambda x: x.lower().split(\">\")[1].split(\"<\")[0] if x else None, StringType())\n",
    "\n",
    "devices = lines.withColumn(\"timestamp\", to_timestamp(from_unixtime(substring(\"time\", 1, 10), format=\"yyyy-MM-dd HH:mm:ss\"), 'yyyy-MM-dd HH:mm:ss')).\\\n",
    "              withColumn(\"device\", explode(split(trim(regexp_replace(func(\"source\"), r\"[^a-z]\", \" \")), \" \"))).\\\n",
    "              select(\"timestamp\", \"device\")\n",
    "\n",
    "results = devices.where(\"device not in ('twitter', 'for', 'bot')\").groupBy(\"device\").count()"
   ]
  },
  {
   "cell_type": "markdown",
   "id": "e48584aa",
   "metadata": {},
   "source": [
    "### Stream-Static Joins"
   ]
  },
  {
   "cell_type": "code",
   "execution_count": 4,
   "id": "fd6c5fe2",
   "metadata": {},
   "outputs": [],
   "source": [
    "from pyspark.sql.functions import expr\n",
    "joiner = results.join(\n",
    "    df,\n",
    "    expr(\"\"\"\n",
    "        device = devname\n",
    "        \"\"\"),\n",
    "    \"left\"\n",
    ").select(\"device\",\"count\",\"ID\").orderBy(col(\"count\").desc()).limit(10)"
   ]
  },
  {
   "cell_type": "code",
   "execution_count": null,
   "id": "d7e9c172",
   "metadata": {},
   "outputs": [
    {
     "name": "stderr",
     "output_type": "stream",
     "text": [
      "21/10/05 02:09:13 WARN StreamingQueryManager: Temporary checkpoint location created which is deleted normally when the query didn't fail: /tmp/temporary-9822e3bc-5e93-4e95-acac-f59b54522c69. If it's required to delete it under any circumstances, please set spark.sql.streaming.forceDeleteTempCheckpointLocation to true. Important to know deleting temp checkpoint folder is best effort.\n",
      "                                                                                \r"
     ]
    },
    {
     "name": "stdout",
     "output_type": "stream",
     "text": [
      "-------------------------------------------\n",
      "Batch: 0\n",
      "-------------------------------------------\n",
      "+---------+-----+----+\n",
      "|   device|count|  ID|\n",
      "+---------+-----+----+\n",
      "|  android|   12|  10|\n",
      "|incorrect|   11|null|\n",
      "|      app|   11|   1|\n",
      "|         |   11|null|\n",
      "| socially|   11|   9|\n",
      "|   iphone|    9|  12|\n",
      "|      web|    9|  24|\n",
      "| azuerbot|    5|null|\n",
      "|djangoapp|    5|null|\n",
      "|  goaidev|    4|null|\n",
      "+---------+-----+----+\n",
      "\n"
     ]
    },
    {
     "name": "stderr",
     "output_type": "stream",
     "text": [
      "                                                                                \r"
     ]
    },
    {
     "name": "stdout",
     "output_type": "stream",
     "text": [
      "-------------------------------------------\n",
      "Batch: 1\n",
      "-------------------------------------------\n",
      "+------------+-----+----+\n",
      "|      device|count|  ID|\n",
      "+------------+-----+----+\n",
      "|     android|   29|  10|\n",
      "|         app|   21|   1|\n",
      "|   incorrect|   18|null|\n",
      "|    socially|   18|   9|\n",
      "|         web|   16|  24|\n",
      "|            |   15|null|\n",
      "|      iphone|   14|  12|\n",
      "|      nodejs|   11|null|\n",
      "|codedailybot|   10|null|\n",
      "|   djangoapp|    6|null|\n",
      "+------------+-----+----+\n",
      "\n"
     ]
    },
    {
     "name": "stderr",
     "output_type": "stream",
     "text": [
      "                                                                                \r"
     ]
    },
    {
     "name": "stdout",
     "output_type": "stream",
     "text": [
      "-------------------------------------------\n",
      "Batch: 2\n",
      "-------------------------------------------\n",
      "+---------+-----+----+\n",
      "|   device|count|  ID|\n",
      "+---------+-----+----+\n",
      "|  android|   44|  10|\n",
      "|      app|   34|   1|\n",
      "|      web|   25|  24|\n",
      "|   iphone|   23|  12|\n",
      "|   nodejs|   21|null|\n",
      "|incorrect|   19|null|\n",
      "| socially|   19|   9|\n",
      "|         |   16|null|\n",
      "|djangoapp|   10|null|\n",
      "|   funbot|   10|null|\n",
      "+---------+-----+----+\n",
      "\n"
     ]
    },
    {
     "name": "stderr",
     "output_type": "stream",
     "text": [
      "                                                                                \r"
     ]
    },
    {
     "name": "stdout",
     "output_type": "stream",
     "text": [
      "-------------------------------------------\n",
      "Batch: 3\n",
      "-------------------------------------------\n",
      "+---------------+-----+----+\n",
      "|         device|count|  ID|\n",
      "+---------------+-----+----+\n",
      "|        android|   68|  10|\n",
      "|            app|   51|   1|\n",
      "|            web|   40|  24|\n",
      "|         iphone|   33|  12|\n",
      "|         nodejs|   24|null|\n",
      "|      incorrect|   19|null|\n",
      "|       socially|   19|   9|\n",
      "|               |   16|null|\n",
      "|thedeveloperbot|   11|null|\n",
      "|      djangoapp|   11|null|\n",
      "+---------------+-----+----+\n",
      "\n"
     ]
    },
    {
     "name": "stderr",
     "output_type": "stream",
     "text": [
      "                                                                                \r"
     ]
    },
    {
     "name": "stdout",
     "output_type": "stream",
     "text": [
      "-------------------------------------------\n",
      "Batch: 4\n",
      "-------------------------------------------\n",
      "+---------+-----+----+\n",
      "|   device|count|  ID|\n",
      "+---------+-----+----+\n",
      "|  android|   80|  10|\n",
      "|      app|   65|   1|\n",
      "|      web|   51|  24|\n",
      "|   iphone|   39|  12|\n",
      "|   nodejs|   36|null|\n",
      "|incorrect|   19|null|\n",
      "|         |   19|null|\n",
      "| socially|   19|   9|\n",
      "| azuerbot|   16|null|\n",
      "|  goaidev|   15|null|\n",
      "+---------+-----+----+\n",
      "\n"
     ]
    },
    {
     "name": "stderr",
     "output_type": "stream",
     "text": [
      "                                                                                \r"
     ]
    },
    {
     "name": "stdout",
     "output_type": "stream",
     "text": [
      "-------------------------------------------\n",
      "Batch: 5\n",
      "-------------------------------------------\n",
      "+---------+-----+----+\n",
      "|   device|count|  ID|\n",
      "+---------+-----+----+\n",
      "|  android|   88|  10|\n",
      "|      app|   79|   1|\n",
      "|      web|   64|  24|\n",
      "|   nodejs|   50|null|\n",
      "|   iphone|   45|  12|\n",
      "|         |   21|null|\n",
      "| azuerbot|   19|null|\n",
      "|incorrect|   19|null|\n",
      "|   funbot|   19|null|\n",
      "| socially|   19|   9|\n",
      "+---------+-----+----+\n",
      "\n"
     ]
    },
    {
     "name": "stderr",
     "output_type": "stream",
     "text": [
      "                                                                                \r"
     ]
    },
    {
     "name": "stdout",
     "output_type": "stream",
     "text": [
      "-------------------------------------------\n",
      "Batch: 6\n",
      "-------------------------------------------\n",
      "+---------+-----+----+\n",
      "|   device|count|  ID|\n",
      "+---------+-----+----+\n",
      "|  android|  100|  10|\n",
      "|      app|   95|   1|\n",
      "|      web|   79|  24|\n",
      "|   nodejs|   58|null|\n",
      "|   iphone|   52|  12|\n",
      "|         |   29|null|\n",
      "| azuerbot|   20|null|\n",
      "|   funbot|   20|null|\n",
      "|djangoapp|   19|null|\n",
      "| socially|   19|   9|\n",
      "+---------+-----+----+\n",
      "\n"
     ]
    },
    {
     "name": "stderr",
     "output_type": "stream",
     "text": [
      "                                                                                \r"
     ]
    },
    {
     "name": "stdout",
     "output_type": "stream",
     "text": [
      "-------------------------------------------\n",
      "Batch: 7\n",
      "-------------------------------------------\n",
      "+---------------+-----+----+\n",
      "|         device|count|  ID|\n",
      "+---------------+-----+----+\n",
      "|            app|  107|   1|\n",
      "|        android|  106|  10|\n",
      "|            web|   89|  24|\n",
      "|         nodejs|   63|null|\n",
      "|         iphone|   61|  12|\n",
      "|               |   29|null|\n",
      "|         funbot|   25|null|\n",
      "|       azuerbot|   23|null|\n",
      "|thedeveloperbot|   23|null|\n",
      "|        goaidev|   21|null|\n",
      "+---------------+-----+----+\n",
      "\n"
     ]
    },
    {
     "name": "stderr",
     "output_type": "stream",
     "text": [
      "                                                                                \r"
     ]
    },
    {
     "name": "stdout",
     "output_type": "stream",
     "text": [
      "-------------------------------------------\n",
      "Batch: 8\n",
      "-------------------------------------------\n",
      "+---------------+-----+----+\n",
      "|         device|count|  ID|\n",
      "+---------------+-----+----+\n",
      "|            app|  125|   1|\n",
      "|        android|  113|  10|\n",
      "|            web|  103|  24|\n",
      "|         nodejs|   75|null|\n",
      "|         iphone|   66|  12|\n",
      "|               |   29|null|\n",
      "|         funbot|   28|null|\n",
      "|       azuerbot|   27|null|\n",
      "|thedeveloperbot|   27|null|\n",
      "|        goaidev|   27|null|\n",
      "+---------------+-----+----+\n",
      "\n"
     ]
    }
   ],
   "source": [
    "query = joiner.writeStream.outputMode(\"complete\").format(\"console\").start()\n",
    "query.awaitTermination()"
   ]
  },
  {
   "cell_type": "markdown",
   "id": "5881a196",
   "metadata": {},
   "source": [
    "## csv 파일 생성\n",
    "\n",
    "bash start-cluster.sh 를 실행시켰던 터미널에서 아래 명령어 수행\n",
    "\n",
    "```bash\n",
    "python3 generator.py 4\n",
    "```"
   ]
  },
  {
   "cell_type": "markdown",
   "id": "d95e6c7e",
   "metadata": {},
   "source": [
    "파이썬 스크립트는 5초마다 다른 경로에 있던 트위터 데이터를 \"/data/Structured_Streaming\" 경로로 옮겨 스트리밍하게 들어오듯 만듦"
   ]
  }
 ],
 "metadata": {
  "kernelspec": {
   "display_name": "Python 3 (ipykernel)",
   "language": "python",
   "name": "python3"
  },
  "language_info": {
   "codemirror_mode": {
    "name": "ipython",
    "version": 3
   },
   "file_extension": ".py",
   "mimetype": "text/x-python",
   "name": "python",
   "nbconvert_exporter": "python",
   "pygments_lexer": "ipython3",
   "version": "3.8.10"
  }
 },
 "nbformat": 4,
 "nbformat_minor": 5
}
