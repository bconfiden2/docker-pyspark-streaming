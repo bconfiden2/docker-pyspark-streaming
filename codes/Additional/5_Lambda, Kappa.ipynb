{
 "cells": [
  {
   "cell_type": "markdown",
   "metadata": {},
   "source": [
    "# Lambda Architecture\n",
    "\n",
    "- 트위터 개발자 Nathan Marz에 의해서 소개되 아키텍처\n",
    "- 실시간 분석을 지원하는 대용량 데이터 처리 아키텍처 <br>\n",
    "\n",
    "![lambda architecture](http://blog.skby.net/blog/wp-content/uploads/2019/01/1-49.png)\n",
    "\n",
    "\n",
    "## Batch Layer\n",
    "- 데이터를 처리하는 단위(분, 일, 월)로 데이터가 입력되면 해당 설정한 단위로 데이터 처리를 하는 레이어\n",
    "- immutable한 데이터들에 대해서 배치 작업을 통해 결과값을 저장\n",
    "- Hadoop, Spark, Hive 등이 존재\n",
    "\n",
    "## Speed Layer\n",
    "- 실시간 데이터를 처리하고 응답시간을 빠르게 유지하는 역할을 하는 레이어\n",
    "- 스트림으로 들어온 데이터를 처리하기 위한 큐나 버퍼같은 구조를 사용하고 효율적 스트림 처리를 위한 증분 처리 방식을 사용\n",
    "- 빠른 데이터 처리, 지연시간을 최소화 하는 것을 목표로 함\n",
    "- Apache Spark, Streaming, Storm, Flink\n",
    "\n",
    "## Serving Layer\n",
    "- 배치레이어와 스피드레이어를 통해 처리되 배치뷰와 실시간뷰를 병합하여 사용자에게 데이터 조회를 제공해주는 레이어\n",
    "- Druid, HBase\n",
    "\n",
    "## 장점\n",
    "- 배치, 실시간으로 나뉘어져 있기때문에 모든 데이터를 처리하는 기존 데이터 처리 방식보다 대용량 처리에 적합한 구조\n",
    "- 높은 확장성\n",
    "- Near-Real-Time(초 단위 수준의 지연시간 보장)으로 데이터 조회가 가능\n",
    "\n",
    "## 단점\n",
    "- 배치 레이어와 스피드 레이어의 분리로 인한 중복 데이터가 존재할 수 있음\n",
    "- 분리된 레이어에 대한 아키텍처 관리에 대한 복잡성이 증가할 수 있음"
   ]
  },
  {
   "cell_type": "markdown",
   "metadata": {},
   "source": [
    "# Kappa Architecture\n",
    "\n",
    "- 람다 아키텍처의 단점을 보완하기 위해 나온 카파 아키텍처 <br>\n",
    "\n",
    "![kappa architecture](https://ichi.pro/assets/images/max/724/1*gKcpRXzSPxwkv9kTJTf9Sw.png)\n",
    "\n",
    "- 람다 아키텍처에서 배치 레이어를 제외한 2가지 레이어(스피드, 서빙)로 구성되 아키텍처\n",
    "\n",
    "## 특징\n",
    "- 람다를 기반으로 최적화되어 실시간 및 스트리밍 부분을 결합하고 데이터 채널을 메시지 대기열로 대체\n",
    "- 스트림 처리를 중심으로 사용하지만 데이터는 데이터 레이크 수준에 저장\n",
    "- 대규모 오프라인 분석 및 기타 다양한 계산이 필요한 경우 데이터 레이크의 데이터를 메시지 대기열을 통해 다시 전송할 수 있음\n",
    "\n",
    "## 장점\n",
    "- 람다 아키텍처의 중복 부분을 해결\n",
    "\n",
    "## 단점\n",
    "- 데이터 재생 부분의 경우 구현하기가 상대적으로 어려움\n",
    "\n",
    "\n",
    "\n"
   ]
  }
 ],
 "metadata": {
  "interpreter": {
   "hash": "11f1dc213e07634baa4c5c321dec03c05dafae643c50f20e6d1a492290c05dc2"
  },
  "kernelspec": {
   "display_name": "Python 3",
   "language": "python",
   "name": "python3"
  },
  "language_info": {
   "codemirror_mode": {
    "name": "ipython",
    "version": 3
   },
   "file_extension": ".py",
   "mimetype": "text/x-python",
   "name": "python",
   "nbconvert_exporter": "python",
   "pygments_lexer": "ipython3",
   "version": "3.8.8"
  }
 },
 "nbformat": 4,
 "nbformat_minor": 2
}
