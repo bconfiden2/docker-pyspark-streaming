{
 "cells": [
  {
   "cell_type": "markdown",
   "id": "3d778860",
   "metadata": {},
   "source": [
    "# First Spark Streaming Example\n",
    "\n",
    "## Twitter Example"
   ]
  },
  {
   "cell_type": "code",
   "execution_count": 1,
   "id": "0090feee",
   "metadata": {},
   "outputs": [],
   "source": [
    "import findspark"
   ]
  },
  {
   "cell_type": "code",
   "execution_count": 2,
   "id": "356ef566",
   "metadata": {},
   "outputs": [],
   "source": [
    "import os"
   ]
  },
  {
   "cell_type": "code",
   "execution_count": 3,
   "id": "84b72b8e",
   "metadata": {},
   "outputs": [
    {
     "name": "stdout",
     "output_type": "stream",
     "text": [
      "/home/tomato/docker_spark/codes\n"
     ]
    }
   ],
   "source": [
    "import os\n",
    "print(os.getcwd())\n",
    "#print(os.path.dirname(os.path.realpath(__file__)) )"
   ]
  },
  {
   "cell_type": "code",
   "execution_count": 4,
   "id": "604c0d14",
   "metadata": {},
   "outputs": [],
   "source": [
    "# your path will likely not have 'matthew' in it. Change it to reflect your path.\n",
    "#findspark.init('home/tomato/opt/spark-3.0.3-bin-hadoop2.7')"
   ]
  },
  {
   "cell_type": "code",
   "execution_count": 5,
   "id": "cf35ab15",
   "metadata": {},
   "outputs": [],
   "source": [
    "# May cause deprecation warnings, safe to ignore, they aren't errors\n",
    "from pyspark import SparkContext\n",
    "from pyspark.streaming import StreamingContext\n",
    "from pyspark.sql import SQLContext\n",
    "from pyspark.sql.functions import desc"
   ]
  },
  {
   "cell_type": "code",
   "execution_count": 6,
   "id": "10ab6e29",
   "metadata": {},
   "outputs": [
    {
     "name": "stderr",
     "output_type": "stream",
     "text": [
      "21/09/29 14:51:23 WARN Utils: Your hostname, tomato-15ZD90N-VX30K resolves to a loopback address: 127.0.1.1; using 192.168.0.9 instead (on interface wlp0s20f3)\n",
      "21/09/29 14:51:23 WARN Utils: Set SPARK_LOCAL_IP if you need to bind to another address\n",
      "WARNING: An illegal reflective access operation has occurred\n",
      "WARNING: Illegal reflective access by org.apache.spark.unsafe.Platform (file:/home/tomato/.local/lib/python3.8/site-packages/pyspark/jars/spark-unsafe_2.12-3.1.2.jar) to constructor java.nio.DirectByteBuffer(long,int)\n",
      "WARNING: Please consider reporting this to the maintainers of org.apache.spark.unsafe.Platform\n",
      "WARNING: Use --illegal-access=warn to enable warnings of further illegal reflective access operations\n",
      "WARNING: All illegal access operations will be denied in a future release\n",
      "21/09/29 14:51:23 WARN NativeCodeLoader: Unable to load native-hadoop library for your platform... using builtin-java classes where applicable\n",
      "Using Spark's default log4j profile: org/apache/spark/log4j-defaults.properties\n",
      "Setting default log level to \"WARN\".\n",
      "To adjust logging level use sc.setLogLevel(newLevel). For SparkR, use setLogLevel(newLevel).\n"
     ]
    }
   ],
   "source": [
    "# Can only run this once. restart your kernel for any errors.\n",
    "sc = SparkContext()"
   ]
  },
  {
   "cell_type": "code",
   "execution_count": 7,
   "id": "d21ff340",
   "metadata": {},
   "outputs": [],
   "source": [
    "ssc = StreamingContext(sc, 10 )\n",
    "sqlContext = SQLContext(sc)"
   ]
  },
  {
   "cell_type": "code",
   "execution_count": 8,
   "id": "68ef0e75",
   "metadata": {},
   "outputs": [],
   "source": [
    "socket_stream = ssc.socketTextStream(\"127.0.0.1\", 5555)"
   ]
  },
  {
   "cell_type": "code",
   "execution_count": 9,
   "id": "fea74934",
   "metadata": {},
   "outputs": [],
   "source": [
    "lines = socket_stream.window( 20 )"
   ]
  },
  {
   "cell_type": "code",
   "execution_count": 10,
   "id": "8eaa137a",
   "metadata": {},
   "outputs": [],
   "source": [
    "from collections import namedtuple\n",
    "fields = (\"tag\", \"count\" )\n",
    "Tweet = namedtuple( 'Tweet', fields )"
   ]
  },
  {
   "cell_type": "code",
   "execution_count": 11,
   "id": "1abf7247",
   "metadata": {},
   "outputs": [],
   "source": [
    "# Use Parenthesis for multiple lines or use \\.\n",
    "( lines.flatMap( lambda text: text.split( \" \" ) ) #Splits to a list\n",
    "  .filter( lambda word: word.lower().startswith(\"#\") ) # Checks for hashtag calls\n",
    "  .map( lambda word: ( word.lower(), 1 ) ) # Lower cases the word\n",
    "  .reduceByKey( lambda a, b: a + b ) # Reduces\n",
    "  .map( lambda rec: Tweet( rec[0], rec[1] ) ) # Stores in a Tweet Object\n",
    "  .foreachRDD( lambda rdd: rdd.toDF().sort( desc(\"count\") ) # Sorts Them in a DF\n",
    "  .limit(10).registerTempTable(\"tweets\") ) ) # Registers to a table."
   ]
  },
  {
   "cell_type": "code",
   "execution_count": 12,
   "id": "039dd86a",
   "metadata": {},
   "outputs": [],
   "source": [
    "import time\n",
    "from IPython import display\n",
    "import matplotlib.pyplot as plt\n",
    "import seaborn as sns\n",
    "import pandas\n",
    "# Only works for Jupyter Notebooks!\n",
    "%matplotlib inline "
   ]
  },
  {
   "cell_type": "code",
   "execution_count": 13,
   "id": "54781969",
   "metadata": {},
   "outputs": [
    {
     "name": "stderr",
     "output_type": "stream",
     "text": [
      "21/09/29 14:52:06 WARN RandomBlockReplicationPolicy: Expecting 1 replicas with only 0 peer/s.\n",
      "21/09/29 14:52:06 WARN BlockManager: Block input-0-1632894726000 replicated to only 0 peer(s) instead of 1 peers\n",
      "21/09/29 14:52:06 WARN RandomBlockReplicationPolicy: Expecting 1 replicas with only 0 peer/s.\n",
      "21/09/29 14:52:06 WARN BlockManager: Block input-0-1632894726600 replicated to only 0 peer(s) instead of 1 peers\n",
      "21/09/29 14:52:07 WARN RandomBlockReplicationPolicy: Expecting 1 replicas with only 0 peer/s.\n",
      "21/09/29 14:52:07 WARN BlockManager: Block input-0-1632894727600 replicated to only 0 peer(s) instead of 1 peers\n",
      "21/09/29 14:52:09 WARN RandomBlockReplicationPolicy: Expecting 1 replicas with only 0 peer/s.\n",
      "21/09/29 14:52:09 WARN BlockManager: Block input-0-1632894728800 replicated to only 0 peer(s) instead of 1 peers\n",
      "21/09/29 14:52:09 WARN RandomBlockReplicationPolicy: Expecting 1 replicas with only 0 peer/s.\n",
      "21/09/29 14:52:09 WARN BlockManager: Block input-0-1632894729400 replicated to only 0 peer(s) instead of 1 peers\n",
      "21/09/29 14:52:10 WARN RandomBlockReplicationPolicy: Expecting 1 replicas with only 0 peer/s.\n",
      "21/09/29 14:52:10 WARN BlockManager: Block input-0-1632894730000 replicated to only 0 peer(s) instead of 1 peers\n",
      "21/09/29 14:52:12 WARN RandomBlockReplicationPolicy: Expecting 1 replicas with only 0 peer/s.\n",
      "21/09/29 14:52:12 WARN BlockManager: Block input-0-1632894732200 replicated to only 0 peer(s) instead of 1 peers\n",
      "21/09/29 14:52:13 WARN RandomBlockReplicationPolicy: Expecting 1 replicas with only 0 peer/s.\n",
      "21/09/29 14:52:13 WARN BlockManager: Block input-0-1632894733400 replicated to only 0 peer(s) instead of 1 peers\n",
      "21/09/29 14:52:17 WARN RandomBlockReplicationPolicy: Expecting 1 replicas with only 0 peer/s.\n",
      "21/09/29 14:52:17 WARN BlockManager: Block input-0-1632894737200 replicated to only 0 peer(s) instead of 1 peers\n"
     ]
    }
   ],
   "source": [
    "ssc.start()"
   ]
  },
  {
   "cell_type": "code",
   "execution_count": 14,
   "id": "10b03342",
   "metadata": {},
   "outputs": [
    {
     "data": {
      "image/png": "[encoded data removed]",
      "text/plain": [
       "<Figure size 720x576 with 1 Axes>"
      ]
     },
     "metadata": {
      "needs_background": "light"
     },
     "output_type": "display_data"
    },
    {
     "name": "stderr",
     "output_type": "stream",
     "text": [
      "21/09/29 14:52:54 WARN RandomBlockReplicationPolicy: Expecting 1 replicas with only 0 peer/s.\n",
      "21/09/29 14:52:54 WARN BlockManager: Block input-0-1632894774400 replicated to only 0 peer(s) instead of 1 peers\n",
      "21/09/29 14:52:55 WARN RandomBlockReplicationPolicy: Expecting 1 replicas with only 0 peer/s.\n",
      "21/09/29 14:52:55 WARN BlockManager: Block input-0-1632894774800 replicated to only 0 peer(s) instead of 1 peers\n",
      "21/09/29 14:52:57 WARN RandomBlockReplicationPolicy: Expecting 1 replicas with only 0 peer/s.\n",
      "21/09/29 14:52:57 WARN BlockManager: Block input-0-1632894777400 replicated to only 0 peer(s) instead of 1 peers\n",
      "21/09/29 14:52:57 WARN RandomBlockReplicationPolicy: Expecting 1 replicas with only 0 peer/s.\n",
      "21/09/29 14:52:57 WARN BlockManager: Block input-0-1632894777600 replicated to only 0 peer(s) instead of 1 peers\n",
      "21/09/29 14:53:00 WARN RandomBlockReplicationPolicy: Expecting 1 replicas with only 0 peer/s.\n",
      "21/09/29 14:53:00 WARN BlockManager: Block input-0-1632894780200 replicated to only 0 peer(s) instead of 1 peers\n",
      "21/09/29 14:53:07 WARN RandomBlockReplicationPolicy: Expecting 1 replicas with only 0 peer/s.\n",
      "21/09/29 14:53:07 WARN BlockManager: Block input-0-1632894787400 replicated to only 0 peer(s) instead of 1 peers\n",
      "21/09/29 14:53:10 WARN RandomBlockReplicationPolicy: Expecting 1 replicas with only 0 peer/s.\n",
      "21/09/29 14:53:10 WARN BlockManager: Block input-0-1632894789800 replicated to only 0 peer(s) instead of 1 peers\n",
      "21/09/29 14:53:11 WARN RandomBlockReplicationPolicy: Expecting 1 replicas with only 0 peer/s.\n",
      "21/09/29 14:53:11 WARN BlockManager: Block input-0-1632894791600 replicated to only 0 peer(s) instead of 1 peers\n",
      "21/09/29 14:53:14 WARN RandomBlockReplicationPolicy: Expecting 1 replicas with only 0 peer/s.\n",
      "21/09/29 14:53:14 WARN BlockManager: Block input-0-1632894793800 replicated to only 0 peer(s) instead of 1 peers\n",
      "21/09/29 14:53:16 WARN RandomBlockReplicationPolicy: Expecting 1 replicas with only 0 peer/s.\n",
      "21/09/29 14:53:16 WARN BlockManager: Block input-0-1632894795800 replicated to only 0 peer(s) instead of 1 peers\n",
      "21/09/29 14:53:16 WARN RandomBlockReplicationPolicy: Expecting 1 replicas with only 0 peer/s.\n",
      "21/09/29 14:53:16 WARN BlockManager: Block input-0-1632894796400 replicated to only 0 peer(s) instead of 1 peers\n",
      "21/09/29 14:53:17 WARN RandomBlockReplicationPolicy: Expecting 1 replicas with only 0 peer/s.\n",
      "21/09/29 14:53:17 WARN BlockManager: Block input-0-1632894797000 replicated to only 0 peer(s) instead of 1 peers\n",
      "21/09/29 14:53:24 WARN RandomBlockReplicationPolicy: Expecting 1 replicas with only 0 peer/s.\n",
      "21/09/29 14:53:24 WARN BlockManager: Block input-0-1632894804600 replicated to only 0 peer(s) instead of 1 peers\n",
      "21/09/29 14:53:33 WARN RandomBlockReplicationPolicy: Expecting 1 replicas with only 0 peer/s.\n",
      "21/09/29 14:53:33 WARN BlockManager: Block input-0-1632894813600 replicated to only 0 peer(s) instead of 1 peers\n",
      "21/09/29 14:53:35 WARN RandomBlockReplicationPolicy: Expecting 1 replicas with only 0 peer/s.\n",
      "21/09/29 14:53:35 WARN BlockManager: Block input-0-1632894814800 replicated to only 0 peer(s) instead of 1 peers\n",
      "21/09/29 14:53:35 WARN RandomBlockReplicationPolicy: Expecting 1 replicas with only 0 peer/s.\n",
      "21/09/29 14:53:35 WARN BlockManager: Block input-0-1632894815200 replicated to only 0 peer(s) instead of 1 peers\n",
      "21/09/29 14:53:37 WARN RandomBlockReplicationPolicy: Expecting 1 replicas with only 0 peer/s.\n",
      "21/09/29 14:53:37 WARN BlockManager: Block input-0-1632894816800 replicated to only 0 peer(s) instead of 1 peers\n",
      "21/09/29 14:53:37 WARN RandomBlockReplicationPolicy: Expecting 1 replicas with only 0 peer/s.\n",
      "21/09/29 14:53:37 WARN BlockManager: Block input-0-1632894817600 replicated to only 0 peer(s) instead of 1 peers\n",
      "21/09/29 14:53:39 WARN RandomBlockReplicationPolicy: Expecting 1 replicas with only 0 peer/s.\n",
      "21/09/29 14:53:39 WARN BlockManager: Block input-0-1632894818800 replicated to only 0 peer(s) instead of 1 peers\n",
      "21/09/29 14:53:40 WARN RandomBlockReplicationPolicy: Expecting 1 replicas with only 0 peer/s.\n",
      "21/09/29 14:53:40 WARN BlockManager: Block input-0-1632894820200 replicated to only 0 peer(s) instead of 1 peers\n",
      "21/09/29 14:53:42 WARN RandomBlockReplicationPolicy: Expecting 1 replicas with only 0 peer/s.\n",
      "21/09/29 14:53:42 WARN BlockManager: Block input-0-1632894822200 replicated to only 0 peer(s) instead of 1 peers\n",
      "21/09/29 14:53:42 WARN RandomBlockReplicationPolicy: Expecting 1 replicas with only 0 peer/s.\n",
      "21/09/29 14:53:42 WARN BlockManager: Block input-0-1632894822400 replicated to only 0 peer(s) instead of 1 peers\n",
      "21/09/29 14:53:44 WARN RandomBlockReplicationPolicy: Expecting 1 replicas with only 0 peer/s.\n",
      "21/09/29 14:53:44 WARN BlockManager: Block input-0-1632894823800 replicated to only 0 peer(s) instead of 1 peers\n",
      "21/09/29 14:53:46 WARN RandomBlockReplicationPolicy: Expecting 1 replicas with only 0 peer/s.\n",
      "21/09/29 14:53:46 WARN BlockManager: Block input-0-1632894826400 replicated to only 0 peer(s) instead of 1 peers\n",
      "21/09/29 14:53:47 WARN RandomBlockReplicationPolicy: Expecting 1 replicas with only 0 peer/s.\n",
      "21/09/29 14:53:47 WARN BlockManager: Block input-0-1632894827400 replicated to only 0 peer(s) instead of 1 peers\n",
      "21/09/29 14:53:48 WARN RandomBlockReplicationPolicy: Expecting 1 replicas with only 0 peer/s.\n",
      "21/09/29 14:53:48 WARN BlockManager: Block input-0-1632894827800 replicated to only 0 peer(s) instead of 1 peers\n",
      "21/09/29 14:53:52 WARN RandomBlockReplicationPolicy: Expecting 1 replicas with only 0 peer/s.\n",
      "21/09/29 14:53:52 WARN BlockManager: Block input-0-1632894832200 replicated to only 0 peer(s) instead of 1 peers\n",
      "21/09/29 14:53:54 WARN RandomBlockReplicationPolicy: Expecting 1 replicas with only 0 peer/s.\n",
      "21/09/29 14:53:54 WARN BlockManager: Block input-0-1632894834000 replicated to only 0 peer(s) instead of 1 peers\n",
      "21/09/29 14:53:58 WARN RandomBlockReplicationPolicy: Expecting 1 replicas with only 0 peer/s.\n",
      "21/09/29 14:53:58 WARN BlockManager: Block input-0-1632894837800 replicated to only 0 peer(s) instead of 1 peers\n",
      "21/09/29 14:54:00 WARN RandomBlockReplicationPolicy: Expecting 1 replicas with only 0 peer/s.\n",
      "21/09/29 14:54:00 WARN BlockManager: Block input-0-1632894839800 replicated to only 0 peer(s) instead of 1 peers\n",
      "21/09/29 14:54:01 WARN RandomBlockReplicationPolicy: Expecting 1 replicas with only 0 peer/s.\n",
      "21/09/29 14:54:01 WARN BlockManager: Block input-0-1632894841200 replicated to only 0 peer(s) instead of 1 peers\n",
      "21/09/29 14:54:03 WARN RandomBlockReplicationPolicy: Expecting 1 replicas with only 0 peer/s.\n",
      "21/09/29 14:54:03 WARN BlockManager: Block input-0-1632894842800 replicated to only 0 peer(s) instead of 1 peers\n",
      "21/09/29 14:54:04 WARN RandomBlockReplicationPolicy: Expecting 1 replicas with only 0 peer/s.\n",
      "21/09/29 14:54:04 WARN BlockManager: Block input-0-1632894843800 replicated to only 0 peer(s) instead of 1 peers\n",
      "21/09/29 14:54:06 WARN RandomBlockReplicationPolicy: Expecting 1 replicas with only 0 peer/s.\n",
      "21/09/29 14:54:06 WARN BlockManager: Block input-0-1632894846400 replicated to only 0 peer(s) instead of 1 peers\n",
      "21/09/29 14:54:07 WARN RandomBlockReplicationPolicy: Expecting 1 replicas with only 0 peer/s.\n",
      "21/09/29 14:54:07 WARN BlockManager: Block input-0-1632894847600 replicated to only 0 peer(s) instead of 1 peers\n",
      "21/09/29 14:54:10 WARN RandomBlockReplicationPolicy: Expecting 1 replicas with only 0 peer/s.\n",
      "21/09/29 14:54:10 WARN BlockManager: Block input-0-1632894850200 replicated to only 0 peer(s) instead of 1 peers\n",
      "21/09/29 14:54:10 WARN RandomBlockReplicationPolicy: Expecting 1 replicas with only 0 peer/s.\n",
      "21/09/29 14:54:10 WARN BlockManager: Block input-0-1632894850600 replicated to only 0 peer(s) instead of 1 peers\n",
      "21/09/29 14:54:13 WARN RandomBlockReplicationPolicy: Expecting 1 replicas with only 0 peer/s.\n",
      "21/09/29 14:54:13 WARN BlockManager: Block input-0-1632894853400 replicated to only 0 peer(s) instead of 1 peers\n",
      "21/09/29 14:54:15 WARN RandomBlockReplicationPolicy: Expecting 1 replicas with only 0 peer/s.\n",
      "21/09/29 14:54:15 WARN BlockManager: Block input-0-1632894855600 replicated to only 0 peer(s) instead of 1 peers\n",
      "21/09/29 14:54:17 WARN RandomBlockReplicationPolicy: Expecting 1 replicas with only 0 peer/s.\n",
      "21/09/29 14:54:17 WARN BlockManager: Block input-0-1632894857000 replicated to only 0 peer(s) instead of 1 peers\n"
     ]
    },
    {
     "name": "stderr",
     "output_type": "stream",
     "text": [
      "21/09/29 14:54:17 WARN RandomBlockReplicationPolicy: Expecting 1 replicas with only 0 peer/s.\n",
      "21/09/29 14:54:17 WARN BlockManager: Block input-0-1632894857400 replicated to only 0 peer(s) instead of 1 peers\n",
      "21/09/29 14:54:21 WARN RandomBlockReplicationPolicy: Expecting 1 replicas with only 0 peer/s.\n",
      "21/09/29 14:54:21 WARN BlockManager: Block input-0-1632894861400 replicated to only 0 peer(s) instead of 1 peers\n",
      "21/09/29 14:54:28 WARN RandomBlockReplicationPolicy: Expecting 1 replicas with only 0 peer/s.\n",
      "21/09/29 14:54:28 WARN BlockManager: Block input-0-1632894868000 replicated to only 0 peer(s) instead of 1 peers\n",
      "21/09/29 14:54:36 WARN RandomBlockReplicationPolicy: Expecting 1 replicas with only 0 peer/s.\n",
      "21/09/29 14:54:36 WARN BlockManager: Block input-0-1632894876400 replicated to only 0 peer(s) instead of 1 peers\n",
      "21/09/29 14:54:38 WARN RandomBlockReplicationPolicy: Expecting 1 replicas with only 0 peer/s.\n",
      "21/09/29 14:54:38 WARN BlockManager: Block input-0-1632894878600 replicated to only 0 peer(s) instead of 1 peers\n",
      "21/09/29 14:54:40 WARN RandomBlockReplicationPolicy: Expecting 1 replicas with only 0 peer/s.\n",
      "21/09/29 14:54:40 WARN BlockManager: Block input-0-1632894880600 replicated to only 0 peer(s) instead of 1 peers\n",
      "21/09/29 14:54:45 WARN RandomBlockReplicationPolicy: Expecting 1 replicas with only 0 peer/s.\n",
      "21/09/29 14:54:45 WARN BlockManager: Block input-0-1632894884800 replicated to only 0 peer(s) instead of 1 peers\n",
      "21/09/29 14:54:47 WARN RandomBlockReplicationPolicy: Expecting 1 replicas with only 0 peer/s.\n",
      "21/09/29 14:54:47 WARN BlockManager: Block input-0-1632894887000 replicated to only 0 peer(s) instead of 1 peers\n",
      "[Stage 0:>                                                          (0 + 1) / 1]\r"
     ]
    }
   ],
   "source": [
    "count = 0\n",
    "while count < 10:\n",
    "    try:\n",
    "        time.sleep( 3 )\n",
    "        top_10_tweets = sqlContext.sql( 'Select tag, count from tweets' )\n",
    "        top_10_df = top_10_tweets.toPandas()\n",
    "        display.clear_output(wait=True)\n",
    "        plt.figure( figsize = ( 10, 8 ) )\n",
    "        sns.barplot( x=\"count\", y=\"tag\", data=top_10_df)\n",
    "        plt.show()\n",
    "        count = count + 1\n",
    "    except:\n",
    "        continue"
   ]
  },
  {
   "cell_type": "code",
   "execution_count": null,
   "id": "8c76bdec",
   "metadata": {},
   "outputs": [],
   "source": []
  }
 ],
 "metadata": {
  "kernelspec": {
   "display_name": "Python 3 (ipykernel)",
   "language": "python",
   "name": "python3"
  },
  "language_info": {
   "codemirror_mode": {
    "name": "ipython",
    "version": 3
   },
   "file_extension": ".py",
   "mimetype": "text/x-python",
   "name": "python",
   "nbconvert_exporter": "python",
   "pygments_lexer": "ipython3",
   "version": "3.8.10"
  }
 },
 "nbformat": 4,
 "nbformat_minor": 5
}
